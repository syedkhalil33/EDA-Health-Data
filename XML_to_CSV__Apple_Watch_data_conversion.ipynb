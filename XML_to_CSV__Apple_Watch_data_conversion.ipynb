{
  "nbformat": 4,
  "nbformat_minor": 0,
  "metadata": {
    "colab": {
      "provenance": [],
      "authorship_tag": "ABX9TyPY0cxaRDlxKUQ3Iu/DA6Wc"
    },
    "kernelspec": {
      "name": "python3",
      "display_name": "Python 3"
    },
    "language_info": {
      "name": "python"
    }
  },
  "cells": [
    {
      "cell_type": "code",
      "execution_count": null,
      "metadata": {
        "id": "LWLfZo8ZOxVv"
      },
      "outputs": [],
      "source": [
        "# Importing the libraries we would need\n",
        "import xml.etree.ElementTree as ET\n",
        "import pandas as pd\n",
        "from datetime import datetime\n",
        "import plotly.express as px\n",
        "import matplotlib.pyplot as plt\n",
        "import plotly.express as px\n",
        "import plotly.graph_objects as go\n",
        "from plotly.subplots import make_subplots"
      ]
    },
    {
      "cell_type": "code",
      "source": [
        "#file_path= \"/content/export.xml\"\n",
        "\n",
        "def parse_apple_health_xml(file_path):\n",
        "    # parse the xml file\n",
        "    tree = ET.parse(file_path)\n",
        "    root = tree.getroot()\n",
        "\n",
        "    # create a list to hold the data\n",
        "    data = []\n",
        "\n",
        "    # loop through each record in the xml file\n",
        "    for record in root.findall('Record'):\n",
        "        # get the data for each record\n",
        "        values = {}\n",
        "        values['type'] = record.get('type')\n",
        "        values['sourceName'] = record.get('sourceName')\n",
        "        values['unit'] = record.get('unit')\n",
        "        values['creationDate'] = record.get('creationDate')\n",
        "        values['startDate'] = record.get('startDate')\n",
        "        values['endDate'] = record.get('endDate')\n",
        "        values['value'] = record.get('value')\n",
        "\n",
        "        # add the record data to the list\n",
        "        data.append(values)\n",
        "\n",
        "    # turn the list into a dataframe\n",
        "    df = pd.DataFrame(data)\n",
        "\n",
        "    return df\n",
        "\n",
        "file_path= \"/content/export.xml\"\n",
        "df = parse_apple_health_xml(file_path)"
      ],
      "metadata": {
        "id": "JfUGBGJiUi6_"
      },
      "execution_count": null,
      "outputs": []
    }
  ]
}